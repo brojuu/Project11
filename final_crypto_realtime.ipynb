{
  "nbformat": 4,
  "nbformat_minor": 0,
  "metadata": {
    "colab": {
      "name": "crypto realtime.ipynb",
      "provenance": [],
      "collapsed_sections": []
    },
    "kernelspec": {
      "name": "python3",
      "display_name": "Python 3"
    },
    "language_info": {
      "name": "python"
    }
  },
  "cells": [
    {
      "cell_type": "markdown",
      "source": [
        "# Import"
      ],
      "metadata": {
        "id": "dh13L0nyZNcb"
      }
    },
    {
      "cell_type": "code",
      "execution_count": null,
      "metadata": {
        "id": "bh7sRJs4c2wA"
      },
      "outputs": [],
      "source": [
        "!pip install python-binance # This is an unofficial Python wrapper for the Binance exchange REST API v3.\n",
        "import pandas as pd # Python Data Analysis Library\n",
        "from binance.client import Client # Creating a client\n",
        "from binance_keys import api_key, secret_key # Issued from a personal account to use binance data\n",
        "from datetime import datetime, timedelta # Time data\n",
        "import time # Time data\n",
        "from binance.exceptions import * #Import all (*) from the os module\n",
        "\n",
        "client = Client(api_key, secret_key,tld='us') # Binance Korean server is terminated and designated as us"
      ]
    },
    {
      "cell_type": "markdown",
      "source": [
        "# Bolinger band function\n"
      ],
      "metadata": {
        "id": "TxjPolfcQOXu"
      }
    },
    {
      "cell_type": "code",
      "source": [
        "def sma(data, window): # Moving average\n",
        "  return(data.rolling(window = window).mean()) # Average the closing price during the window\n",
        "\n",
        "def bollinger_band(data, sma, window, nstd): \n",
        "    std = data.rolling(window = window).std() # Number of standard deviation (typically 2)\n",
        "    upper_band = sma + std * nstd # nstd is Standard deviation over last n periods \n",
        "    lower_band = sma - std * nstd \n",
        "\n",
        "    return upper_band, lower_band "
      ],
      "metadata": {
        "id": "fYS7srzfdJ-j"
      },
      "execution_count": null,
      "outputs": []
    },
    {
      "cell_type": "markdown",
      "source": [
        "# Data collection and Bolinger band creation"
      ],
      "metadata": {
        "id": "jpAJ2OgMQRZP"
      }
    },
    {
      "cell_type": "code",
      "source": [
        "symbols = ['BTC','ETH','LTC'] # Symbol string \n",
        "start_n_hours_ago = 48\n",
        "\n",
        "# Data collection\n",
        "def gather_data(symbols, start_n_hours_ago): \n",
        "    merge = False\n",
        "    for symbol in symbols: \n",
        "      # Get Historical Klines from Binance, symbol: Name of symbol pair, interval : Binance Kline interval, start_str : optional - Start date string in UTC format or timestamp in milliseconds\n",
        "      # Returns : list of OHLCV values (Open time, Open, High, Low, Close, Volume, Close time, Quote asset volume, Number of trades, Taker buy base asset volume, Taker buy quote asset volume, Ignore)\n",
        "        klines = client.get_historical_klines(symbol=f'{symbol}USDT',\n",
        "                                              interval=client.KLINE_INTERVAL_1HOUR, \n",
        "                                              start_str=str(datetime.now()-timedelta(hours=start_n_hours_ago)))\n",
        "        cols = ['OpenTime',\n",
        "                f'{symbol}-USD_Open',\n",
        "                f'{symbol}-USD_High',\n",
        "                f'{symbol}-USD_Low',\n",
        "                f'{symbol}-USD_Close',\n",
        "                f'{symbol}-USD_volume', #\n",
        "                'CloseTime',\n",
        "                f'{symbol}-QuoteAssetVolume',\n",
        "                f'{symbol}-NumberOFTrades',\n",
        "                f'{symbol}-TBBAV',\n",
        "                f'{symbol}-TBQAV',\n",
        "                f'{symbol}-ignore']\n",
        "\n",
        "        df = pd.DataFrame(klines,columns=cols)\n",
        "\n",
        "        if merge == True:\n",
        "            dfs = pd.merge(df,dfs,how='inner',on=['OpenTime','CloseTime'])\n",
        "        else :\n",
        "            dfs = df\n",
        "            merge = True\n",
        "\n",
        "    dfs['OpenTime'] = [datetime.fromtimestamp(ts/1000) for ts in dfs['OpenTime']]\n",
        "    dfs['CloseTime'] = [datetime.fromtimestamp(ts/1000) for ts in dfs['CloseTime']]     \n",
        "   \n",
        "    for col in dfs.columns :\n",
        "        if not 'Time' in col:\n",
        "            dfs[col] = dfs[col].astype(float)\n",
        "\n",
        "# Bolinger band creation\n",
        "    for symbol in symbols:\n",
        "        dfs[f'{symbol}_sma'] = sma(dfs[f'{symbol}-USD_Close'],window=20)\n",
        "        dfs[f'{symbol}_upper_band'], dfs[f'{symbol}_lower_band'] = bollinger_band(data=dfs[f'{symbol}-USD_Close'],\n",
        "                                                                                  sma=dfs[f'{symbol}_sma'],\n",
        "                                                                                  window=20, #window is Number of days in smoothing period\n",
        "                                                                                  nstd=3)\n",
        "    \n",
        "    dfs.dropna(inplace=True)\n",
        "\n",
        "    return dfs     "
      ],
      "metadata": {
        "id": "w6lSmD3WdHiL"
      },
      "execution_count": null,
      "outputs": []
    },
    {
      "cell_type": "markdown",
      "source": [
        "# Check the collected data\n",
        "\n"
      ],
      "metadata": {
        "id": "zYPy6j4mZCnh"
      }
    },
    {
      "cell_type": "code",
      "source": [
        "df = gather_data(symbols,48)\n",
        "df"
      ],
      "metadata": {
        "id": "lJWm5u1OmOgR"
      },
      "execution_count": null,
      "outputs": []
    },
    {
      "cell_type": "code",
      "source": [
        "def get_states(df, symbols):\n",
        "    states = {}\n",
        "\n",
        "    for symbol in symbols:\n",
        "        if df[f'{symbol}-USD_Close'].iloc[-1] < df[f'{symbol}_lower_band'].iloc[-1]: #If it is lower than the Bollinger Band\n",
        "            states[symbol] = 'below'\n",
        "        elif df[f'{symbol}-USD_Close'].iloc[-1] > df[f'{symbol}_upper_band'].iloc[-1]:#If it is upper than the Bollinger Band\n",
        "            states[symbol] = 'above'\n",
        "        else:\n",
        "            states[symbol] = 'inside'\n",
        "            \n",
        "    return states"
      ],
      "metadata": {
        "id": "udMI6vKqd1q5"
      },
      "execution_count": null,
      "outputs": []
    },
    {
      "cell_type": "markdown",
      "source": [
        "# Real-time transaction"
      ],
      "metadata": {
        "id": "ykL7S4dubQ4N"
      }
    },
    {
      "cell_type": "code",
      "source": [
        "balance_unit = 'USDT' \n",
        "first = True\n",
        "\n",
        "while True: \n",
        "    if (datetime.now().second % 10 == 0) or first: \n",
        "        if (datetime.now().minute == 0 and datetime.now().second == 10) or first:\n",
        "            # refresh data \n",
        "            first = False \n",
        "            df = gather_data(symbols,48) \n",
        "            states = get_states(df,symbols)\n",
        "            print('Current state of the market:')\n",
        "            print(states)\n",
        "        try:\n",
        "            print('\\n') \n",
        "            if balance_unit == 'USDT' : # Looking to buy\n",
        "                for symbol in symbols: \n",
        "                    ask_price = float(client.get_orderbook_ticker(symbol = f'{symbol}USDT')['askPrice']) \n",
        "                    lower_band = df[f'{symbol}_lower_band'].iloc[-1] \n",
        "                    print(datetime.now())\n",
        "                    print(f'{symbol} : ask price {ask_price} | lower band {lower_band}') \n",
        "                    if ask_price < lower_band and states[symbol] == 'inside': # Buy signal \n",
        "                        print('buy') \n",
        "                        balance_unit = symbol \n",
        "                        break\n",
        "\n",
        "            if balance_unit != 'USDT': # Looking to sell\n",
        "                bid_price = float(client.get_orderbook_ticker(symbol = f'{balance_unit}USDT')['bidPrice'])\n",
        "                upper_band = df[f'{balance_unit}_upper_band'].iloc[-1] \n",
        "                if bid_price > upper_band and states[balance_unit] == 'inside': # Sell signal \n",
        "                    print('sell') \n",
        "                    balance_unit = 'USDT' \n",
        "\n",
        "            time.sleep(1) \n",
        "        # Set exception to prevent transaction from being stopped due to disruption\n",
        "        except BinanceAPIException as e: \n",
        "          print(e.status_code)\n",
        "          print(e.message)"
      ],
      "metadata": {
        "id": "SPSBZA5jjfgF"
      },
      "execution_count": null,
      "outputs": []
    }
  ]
}