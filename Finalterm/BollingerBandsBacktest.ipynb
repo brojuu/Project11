{
  "nbformat": 4,
  "nbformat_minor": 0,
  "metadata": {
    "colab": {
      "name": "BollingerBandsBacktest.ipynb",
      "provenance": [],
      "collapsed_sections": []
    },
    "kernelspec": {
      "name": "python3",
      "display_name": "Python 3"
    },
    "language_info": {
      "name": "python"
    }
  },
  "cells": [
    {
      "cell_type": "markdown",
      "source": [
        "## This code is a BolingerBandsBacktest using the historical data from Finalterm."
      ],
      "metadata": {
        "id": "JXadXDQ3mrfG"
      }
    },
    {
      "cell_type": "markdown",
      "source": [
        "# Import"
      ],
      "metadata": {
        "id": "6Sv68Na8csgM"
      }
    },
    {
      "cell_type": "code",
      "source": [
        "!pip install python-binance # This is an unofficial Python wrapper for the Binance exchange REST API v3.\n",
        "import pandas as pd # Python Data Analysis Library\n",
        "from binance.client import Client # Creating a client\n",
        "from binance_keys import api_key, secret_key # Issued from a personal account to use binance data\n",
        "import time # Time data\n",
        "from datetime import datetime # Time data\n",
        "import plotly.graph_objects as go\n",
        "from plot_utils import plot_results\n",
        "client = Client(api_key, secret_key)"
      ],
      "metadata": {
        "id": "dEBTITXMcr41"
      },
      "execution_count": null,
      "outputs": []
    },
    {
      "cell_type": "markdown",
      "source": [
        "# GatherData"
      ],
      "metadata": {
        "id": "HBj2HkqecYKi"
      }
    },
    {
      "cell_type": "code",
      "execution_count": null,
      "metadata": {
        "id": "fKT7LELAcW_R"
      },
      "outputs": [],
      "source": [
        "symbols = ['BTC','ETH','LTC'] # Symbol string \n",
        "\n",
        "# Data collection\n",
        "def gather_data(symbols, start_n_hours_ago): \n",
        "    merge = False\n",
        "    for symbol in symbols: \n",
        "      # Get Historical Klines from Binance, symbol: Name of symbol pair, interval : Binance Kline interval, start_str : optional - Start date string in UTC format or timestamp in milliseconds\n",
        "      # Returns : list of OHLCV values (Open time, Open, High, Low, Close, Volume, Close time, Quote asset volume, Number of trades, Taker buy base asset volume, Taker buy quote asset volume, Ignore)\n",
        "        klines = client.get_historical_klines(symbol=f'{symbol}USDT',\n",
        "                                              interval=client.KLINE_INTERVAL_1HOUR, \n",
        "                                              start_str=str(datetime.now()-timedelta(hours=start_n_hours_ago)))\n",
        "        cols = ['OpenTime',\n",
        "                f'{symbol}-USD_Open',\n",
        "                f'{symbol}-USD_High',\n",
        "                f'{symbol}-USD_Low',\n",
        "                f'{symbol}-USD_Close',\n",
        "                f'{symbol}-USD_volume', #\n",
        "                'CloseTime',\n",
        "                f'{symbol}-QuoteAssetVolume',\n",
        "                f'{symbol}-NumberOFTrades',\n",
        "                f'{symbol}-TBBAV',\n",
        "                f'{symbol}-TBQAV',\n",
        "                f'{symbol}-ignore']\n",
        "\n",
        "        df = pd.DataFrame(klines,columns=cols)\n",
        "\n",
        "        if merge == True:\n",
        "            dfs = pd.merge(df,dfs,how='inner',on=['OpenTime','CloseTime'])\n",
        "        else :\n",
        "            dfs = df\n",
        "            merge = True\n",
        "\n",
        "    dfs['OpenTime'] = [datetime.fromtimestamp(ts/1000) for ts in dfs['OpenTime']]\n",
        "    dfs['CloseTime'] = [datetime.fromtimestamp(ts/1000) for ts in dfs['CloseTime']]     \n",
        "   \n",
        "    for col in dfs.columns :\n",
        "        if not 'Time' in col:\n",
        "            dfs[col] = dfs[col].astype(float)\n",
        "\n",
        "fig = go.Figure(data=[go.Candlestick(x=dfs['OpenTime'],\n",
        "                open=dfs['BTC-USD_Open'],\n",
        "                high=dfs['BTC-USD_High'],\n",
        "                low=dfs['BTC-USD_Low'],\n",
        "                close=dfs['BTC-USD_Close'])])\n",
        "\n",
        "fig.update_layout(xaxis_rangeslider_visible=False)\n",
        "fig.show()\n",
        "\n",
        "dfs.to_csv('BTC_ETH_LTC_Jan2721_Jul2121_1h.csv',index=False)"
      ]
    },
    {
      "cell_type": "markdown",
      "source": [
        "# BollingerBandsBacktest"
      ],
      "metadata": {
        "id": "ggkD4KRVcbs5"
      }
    },
    {
      "cell_type": "code",
      "source": [
        "df = pd.read_csv('BTC_ETH_LTC_Jan2721_Jul2121_1h.csv')\n",
        "\n",
        "# Boliger band function\n",
        "def sma(data, window): # Moving average\n",
        "    return(data.rolling(window = window).mean())  # Average the closing price during the window\n",
        "\n",
        "def bollinger_band(data, sma, window, nstd):\n",
        "    std = data.rolling(window = window).std() # Number of standard deviation (typically 2)\n",
        "    upper_band = sma + std * nstd # nstd is Standard deviation over last n periods \n",
        "    lower_band = sma - std * nstd\n",
        "    \n",
        "    return upper_band, lower_band\n",
        "\n",
        "symbols = ['BTC','ETH','LTC']\n",
        "\n",
        "nstd = 3\n",
        "\n",
        "for symbol in symbols:\n",
        "    df[f'{symbol}_sma'] = sma(df[f'{symbol}-USD_Open'], 20)\n",
        "    df[f'{symbol}_upper_band'], df[f'{symbol}_lower_band'] = bollinger_band(df[f'{symbol}-USD_Open'], df[f'{symbol}_sma'], 20, nstd)\n",
        "    \n",
        "df.dropna(inplace=True)\n",
        "\n",
        "class TradingEnv:\n",
        "    def __init__(self, balance_amount, balance_unit, trading_fee_multiplier):\n",
        "        self.balance_amount = balance_amount # the number of currencies held\n",
        "        self.balance_unit = balance_unit # Currency\n",
        "        self.buys = []\n",
        "        self.sells = []\n",
        "        self.trading_fee_multiplier = trading_fee_multiplier # Transaction fee\n",
        "        \n",
        "    def buy(self, symbol, buy_price, time):\n",
        "        self.balance_amount = (self.balance_amount / buy_price) * self.trading_fee_multiplier\n",
        "        self.balance_unit = symbol\n",
        "        self.buys.append([symbol, time, buy_price])\n",
        "        \n",
        "    def sell(self, sell_price, time):\n",
        "        self.balance_amount = self.balance_amount * sell_price * self.trading_fee_multiplier\n",
        "        self.sells.append( [self.balance_unit, time, sell_price] )\n",
        "        self.balance_unit = 'USDT'\n",
        "\n",
        "# VIP level 0, paying fees with BNB = 0.075%\n",
        "env = TradingEnv(balance_amount=100,balance_unit='USDT', trading_fee_multiplier=0.99925)\n",
        "\n",
        "for i in range(len(df)):\n",
        "    if env.balance_unit == 'USDT':\n",
        "        for symbol in symbols:\n",
        "            if df[f'{symbol}-USD_Low'].iloc[i] < df[f'{symbol}_lower_band'].iloc[i]: #buy signal\n",
        "                env.buy(symbol, df[f'{symbol}_lower_band'].iloc[i], df['OpenTime'].iloc[i])\n",
        "                break\n",
        "                \n",
        "    if env.balance_unit != 'USDT':\n",
        "        if df[f'{env.balance_unit}-USD_High'].iloc[i] > df[f'{env.balance_unit}_upper_band'].iloc[i]: #sell signal\n",
        "            env.sell(df[f'{env.balance_unit}_upper_band'].iloc[i], df['OpenTime'].iloc[i])\n",
        "\n",
        "if env.balance_unit != 'USDT':\n",
        "    env.sell(df[f'{env.balance_unit}-USD_Close'].iloc[-1], df['OpenTime'].iloc[-1])\n",
        "\n",
        "print(f'num buys: {len(env.buys)}')\n",
        "print(f'num sells: {len(env.sells)}')\n",
        "print(f'ending balance: {env.balance_amount} {env.balance_unit}')\n",
        "\n",
        "plot_results(df, 'LTC', env.buys, env.sells)"
      ],
      "metadata": {
        "id": "quOdKneCcfCP"
      },
      "execution_count": null,
      "outputs": []
    }
  ]
}